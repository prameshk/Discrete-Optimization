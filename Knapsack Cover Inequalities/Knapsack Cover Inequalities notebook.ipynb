{
 "cells": [
  {
   "cell_type": "markdown",
   "metadata": {},
   "source": [
    "# Knapsack Cover Inequalities"
   ]
  },
  {
   "cell_type": "markdown",
   "metadata": {},
   "source": [
    "Consider the 0-1 knapsack Set \n",
    "\n",
    "$K := \\Big\\{\\{0, 1\\}^{n} : \\sum_{j = 1}^n w_j x_j \\le b \\Big\\}, w_j > 0, \\forall j \\in N = \\{1, 2, ..., n\\}, b > 0$\n",
    "\n",
    "**Definition (Cover)** A set $C \\subseteq N$ is a *cover* if $\\sum_{j \\in C} w_j > b$. A cover is minimal if $\\sum_{j \\in C \\backslash \\{j\\}} w_j \\le b, \\forall j \\in C$. \n",
    "\n",
    "**Prop** If $C \\subseteq N$ is a cover for $K$, then $\\sum_{j \\in C} \\le \\vert C \\vert - 1$ is valid for $K$."
   ]
  },
  {
   "cell_type": "markdown",
   "metadata": {},
   "source": [
    "The alternate reformulation of the Knapsack set is in terms of cover inequalities. In this tutorial, we will see how to generate a minimal cover, how to lift it to make it facet defining, and solve the resulting Knapsack problem.\n"
   ]
  },
  {
   "cell_type": "code",
   "execution_count": 3,
   "metadata": {
    "scrolled": true
   },
   "outputs": [],
   "source": [
    "# First we import some packages\n",
    "import numpy as np\n",
    "from gurobipy import *\n",
    "import time"
   ]
  },
  {
   "cell_type": "markdown",
   "metadata": {},
   "source": [
    "### Generating problem instance"
   ]
  },
  {
   "cell_type": "code",
   "execution_count": 4,
   "metadata": {},
   "outputs": [],
   "source": [
    "def generateData(n): # n is the number of items\n",
    "    np.random.seed(30) # Setting a seed value\n",
    "    a = np.random.randint(1000, size=(n)) # Generating value of items \n",
    "    w = np.random.randint(1000, size=(n))# Generating weight of items \n",
    "    b = np.sum(w)*0.40 # Total weight of Knapsack\n",
    "    return a, w, b"
   ]
  },
  {
   "cell_type": "markdown",
   "metadata": {},
   "source": [
    "### Simply solving the Knapsack problem using Gurobi"
   ]
  },
  {
   "cell_type": "code",
   "execution_count": 5,
   "metadata": {},
   "outputs": [],
   "source": [
    "def solveKnapsackUsingGurobi(n, a, w, b, verbose = 1): # no. of items, value of items, weight of items, and Knapsack weight\n",
    "    m = Model() # Preparing the model\n",
    "    x = {i : m.addVar(lb=0, vtype=GRB.BINARY) for i in range(n)} # whether the item should be included in the Knapsack\n",
    "    m.addConstr(sum([w[j] * x[j] for j in range(n)]) <= b) # Total weight should be less than the Knapsack capacity\n",
    "    m.setObjective(sum([a[j] * x[j] for j in range(n)]), sense = GRB.MAXIMIZE) # Maximize the total value of the Knapsack\n",
    "    m.Params.OutputFlag = 0; m.optimize()\n",
    "    if m.status == 2:  \n",
    "        if verbose == 1:            \n",
    "            print('*********************** Gurobi ***************************')\n",
    "            print('Items selected: ', {k for k in x if x[k].x > 0.4})\n",
    "            print('Total value: ', m.objVal)\n",
    "            print('**********************************************************')\n",
    "        return {k for k in x if x[k].x > 0.4}, m.objVal\n",
    "    else:\n",
    "        print('Infeasible model')\n",
    "        return {}, -float(\"inf\")    "
   ]
  },
  {
   "cell_type": "markdown",
   "metadata": {},
   "source": [
    "### Let's start preparing the initial model"
   ]
  },
  {
   "cell_type": "code",
   "execution_count": 6,
   "metadata": {},
   "outputs": [],
   "source": [
    "def preparePartialModel(n, a, w, b):\n",
    "    m = Model()\n",
    "    x = {i : m.addVar(lb=0.0, ub = 1.0, vtype=GRB.CONTINUOUS, name = str(i)) for i in range(n)}\n",
    "    m.addConstr(sum([w[j] * x[j] for j in range(n)]) <= b)\n",
    "    c, zeta = generateCover(n, a, w, b, {k:0 for k in range(n)})      \n",
    "        \n",
    "    m.addConstr(sum([x[j] for j in c]) <= len(c)-1)\n",
    "    m.setObjective(sum([a[j] * x[j] for j in range(n)]), sense = GRB.MAXIMIZE)\n",
    "    m.Params.OutputFlag = 0; m.Params.IntegralityFocus = 1\n",
    "    return m\n"
   ]
  },
  {
   "cell_type": "markdown",
   "metadata": {},
   "source": [
    "## Generating a cover/Seperation problem\n",
    "To use cover inequalities in a cutting plane scheme, one is faced with the separation problem, that is, given a vector $\\bar{x} \\in \\left[0, 1\\right]^n$, find a cover inequality for $K$ that is violated by $\\bar{x}$, or show that none exists. For this purpose, we solve the following problem:\n",
    "\n",
    "$\\zeta = \\min\\{\\sum_{j \\in C} (1-\\bar{x}_j): C \\text{ is a cover for } K\\}$\n",
    "\n",
    "- If $\\zeta \\ge 1$, then $\\bar{x}$ satisfies all the cover inequalities for $K$. \n",
    "- If $\\zeta < 1$, then an optimal over to the above problem yields the violated minimal cover.\n",
    "\n",
    "One can also write the above prblem as the following binary program. Let $z_j = 1$, if $j$ is in the violated cover $C$.\n",
    "\n",
    "$$\n",
    "\t\\begin{align}\n",
    "\t& \\zeta = \\underset{z}{\\text{minimize}}\n",
    "\t& & \\sum_{j=1}^n (1-\\bar{x}_j) z_j \\\\\n",
    "\t& \\text{subject to}\n",
    "\t& & \\sum_{j= 1}^n w_j z_j \\ge b + 1\\\\\n",
    "\t& & & z \\in \\{0,1\\}^n\n",
    "\t\\end{align}\n",
    "$$"
   ]
  },
  {
   "cell_type": "code",
   "execution_count": 7,
   "metadata": {},
   "outputs": [],
   "source": [
    "def generateCover(n, a, w, b, xbar): # no. of items, value of items, weight of items, Knapsack weight, and xbar\n",
    "     m1 = Model()\n",
    "     z = {i:m1.addVar(lb=0.0, vtype=GRB.BINARY) for i in range(n)}\n",
    "     m1.addConstr(sum([w[j] * z[j] for j in range(n)]) >= b + 1)\n",
    "     m1.setObjective(sum([(1-xbar[j]) * z[j] for j in range(n)]), sense = GRB.MINIMIZE)\n",
    "     m1.Params.OutputFlag = 0; m1.optimize()\n",
    "     return [j for j in range(n) if z[j].x > 0.4], m1.objVal # return the cover and the value of zeta"
   ]
  },
  {
   "cell_type": "markdown",
   "metadata": {},
   "source": [
    "## Lifting \n",
    "\n",
    "This is esentially a procedure to convert a minimal cover inequality $\\sum_{j \\in C} x_j \\le \\vert C \\vert - 1$ into a facet defining inequality for $K$.\n",
    "\n",
    "### Sequential Lifting\n",
    "- Choose an ordering $j_1, j_2, ..., j_l$ of the indices in $N \\backslash C$. Set t = 1.\n",
    "- The valid inequality $\\sum_{i = 1}^{t-1} \\alpha_{j_i} x_{j_i} + \\sum_{j \\in C} x_j \\le \\vert C \\vert - 1$  has been obtained so far.\n",
    "- To calculate the largest value of $\\alpha_{j_t}$ for which the inequality\n",
    "$\\alpha_{j_t} x_t  + \\sum_{i = 1}^{t-1} \\alpha_{j_i} x_{j_i} + \\sum_{j \\in C} x_j \\le \\vert C \\vert -1$ is valid, solve the following Knapsack problem:\n",
    "\n",
    "$$\n",
    "\t\\begin{align}\n",
    "\t& \\xi_t = \\underset{x}{\\text{maximize}}\n",
    "\t& & \\sum_{i = 1}^{t-1} \\alpha_{j_i} x_{j_i} + \\sum_{j \\in C} x_j \\\\\n",
    "\t& \\text{subject to}\n",
    "\t& & \\sum_{i = 1}^{t-1} \\alpha_{j_i} x_{j_i} + \\sum_{j \\in C} w_j x_j \\le b - w_{j_t}\\\\\n",
    "\t& & & x \\in \\{0,1\\}^{\\vert C \\vert + t - 1}\n",
    "\t\\end{align}\n",
    "$$\n",
    "- Set  $\\alpha_{j_t} = \\vert C \\vert - 1 - \\xi_t$.\n",
    "- Stop if $t = r$.\n",
    "\n",
    "We remark that different orderings of $N \\backslash C$ may produce different lifted inequalities. Furthermore, not all possible liftings can be derived from the above procedure."
   ]
  },
  {
   "cell_type": "code",
   "execution_count": 8,
   "metadata": {},
   "outputs": [],
   "source": [
    "def sequentialLifting(c, n, a, w, b): # Cover set, no. of items, value of items, weight of items, and Knapsack weight.\n",
    "    alpha = {k:0.0 for k in range(n) if k not in c} # coefficients of x_j, j not in cover\n",
    "    m2 = Model()\n",
    "    x_dash = {i:m2.addVar(lb=0.0, vtype=GRB.BINARY) for i in c}\n",
    "    toBechecked = list(alpha.keys()); checked = [] # choosing the ordering of indices one-by-one and finding its coeffcient\n",
    "    if len(toBechecked) != 0:        \n",
    "        i = toBechecked.pop(0); \n",
    "        x_dash[i] = m2.addVar(lb=0.0, vtype=GRB.BINARY) # including a variable.\n",
    "        m2.update()\n",
    "        tmpc = sum([x_dash[j] * w[j] for j in c]) + sum([alpha[j]*x_dash[j] for j in checked]) # constraint of already in the Knapsack\n",
    "        tmpo = sum([x_dash[j]  for j in c]) + sum([alpha[j]*x_dash[j] for j in checked])\n",
    "        m2.setObjective(tmpo, sense = GRB.MAXIMIZE)\n",
    "        m2.addConstr(tmpc <= b - w[i])\n",
    "        m2.Params.OutputFlag = 0; m2.optimize()       \n",
    "        if len(c) - 1 - m2.objVal >= 1: # Checking if the current item can be included in the cover.\n",
    "            alpha[i] = len(c) - 1 - m2.objVal\n",
    "            checked.append(i)\n",
    "    return alpha # return coefficients of x_j in the lifted inequality.\n"
   ]
  },
  {
   "cell_type": "markdown",
   "metadata": {},
   "source": [
    "### Balas' lifiting of minimal cover inequalities\n",
    "Let $C$ be a minimal cover for $K$, and let \n",
    "$\\sum_{j \\in C} x_j + \\sum_{j \\in N \\backslash C} w_j x_j \\le \\vert C \\vert - 1$ be a lifting of the cover inequality associated with $C$. Up to permuting the indices, assume that C = \\{1, ..., t\\} and $a_1 \\ge a_2 \\ge ... \\ge a_t$. \n",
    "\n",
    "Let $\\mu_0 =  0$, and $\\mu_h = \\sum_{l = 0}^h w_j,$ for $h = 1, ..., t$\t. Let $\\lambda = \\mu_t - b$ (note that $\\lambda > 0$).\n",
    "\n",
    "If above inequality defines a facet of $conv(K)$, then the following hold for every $j \\in N \\backslash C$.\n",
    "- If, for some $h$, $\\mu_h ≤ w_j ≤ \\mu_{h+1} − \\lambda$, then $\\alpha_j = h$.\n",
    "- If, for some $h$, $\\mu_{h+1} − \\lambda < w_j < \\mu_{h+1}$, then $h ≤ \\alpha_j ≤ h + 1$ (i.e., select $\\alpha_j = h+1$)."
   ]
  },
  {
   "cell_type": "code",
   "execution_count": 9,
   "metadata": {},
   "outputs": [],
   "source": [
    "def BalasLifting(c, n, a, w, b): # Cover set, no. of items, value of items, weight of items, and Knapsack weight.\n",
    "    orderCoverWeightsList = sorted(c, key=lambda item: w[item], reverse =True)\n",
    "    alpha = {k:0.0 for k in range(n) if k not in c} # coefficients of x_j, j not in cover\n",
    "    mu = {0:0.0}   \n",
    "    ind = 0; cum = 0\n",
    "    for k in orderCoverWeightsList:\n",
    "        if ind == 0:\n",
    "            mu[ind+1] = w[k]\n",
    "            ind += 1; cum += w[k]\n",
    "        else:\n",
    "            mu[ind+1] = w[k] + cum\n",
    "            ind += 1; cum += w[k]\n",
    "    lamb = mu[len(mu)-1] - b\n",
    "    \n",
    "    \n",
    "    for j in alpha:\n",
    "        h = [h for h in mu if h < len(mu)-1 and mu[h] <= w[j] <= mu[h+1] - lamb]\n",
    "        if len(h) != 0:\n",
    "            alpha[j] = h[0]\n",
    "        else:\n",
    "            h = [h for h in mu if h < len(mu)-1 and mu[h] -lamb <= w[j] <= mu[h]]\n",
    "            alpha[j] = h[-1]\n",
    "    return alpha # return coefficients of x_j in the lifted inequality."
   ]
  },
  {
   "cell_type": "markdown",
   "metadata": {},
   "source": [
    "### Solving Knapsack problem using cover inequalities\n",
    "Putting above peices together."
   ]
  },
  {
   "cell_type": "code",
   "execution_count": 10,
   "metadata": {},
   "outputs": [],
   "source": [
    "def solveKnapsackUsingCoverInequalities(n, a, w, b, lifting = 'sequential', verbose = 1):\n",
    "    m = preparePartialModel(n, a, w, b)\n",
    "    m.optimize()\n",
    "    if m.status == 2:\n",
    "        x = {i:m.getVarByName(str(i)).x for i in range(n)}   \n",
    "        c, zeta = generateCover(n, a, w, b, x)        \n",
    "    else:    \n",
    "        print('Infeasible model')       \n",
    "    alpha = []\n",
    "   \n",
    "    while zeta < 1:\n",
    "        m.addConstr(sum([m.getVarByName(str(i)) for i in c]) + sum([m.getVarByName(str(i)) * alpha[i] for i in alpha]) <= len(c) - 1)\n",
    "        m.optimize()\n",
    "        x = {i:m.getVarByName(str(i)).x for i in range(n)}   \n",
    "        c, zeta = generateCover(n, a, w, b, x) \n",
    "        #print('Cover', sum([w[k] for k in c])-min([w[k] for k in c]) <= b)\n",
    "        if lifting == 'sequential':\n",
    "            alpha = sequentialLifting(c, n, a, w, b)\n",
    "        elif lifting == 'Balas':\n",
    "            alpha = BalasLifting(c, n, a, w, b)\n",
    "        elif lifting == 'None':\n",
    "            alpha = []\n",
    "        else:\n",
    "            print('lifting is unknown.. terminating')\n",
    "            return 'NA'\n",
    "        zeta = round(zeta, 4)\n",
    "        #print(c, zeta, alpha)\n",
    "        \n",
    "    if verbose == 1:\n",
    "        print('******************* Cover Inequality *********************')\n",
    "        print('Items selected: ', {i:m.getVarByName(str(i)).x for i in range(n) if m.getVarByName(str(i)).x > 0.4} )\n",
    "        print('Total value: ', sum([a[k] for k in range(n) if round(m.getVarByName(str(k)).x) > 0.4]))\n",
    "        print('**********************************************************')\n",
    "    return {i:m.getVarByName(str(i)).x for i in range(n) if m.getVarByName(str(i)).x > 0.4}, sum([a[k] for k in range(n) if round(m.getVarByName(str(k)).x) > 0.4]), len(m.getConstrs()) - 1\n",
    "             "
   ]
  },
  {
   "cell_type": "markdown",
   "metadata": {},
   "source": [
    "## Solve the models and print results"
   ]
  },
  {
   "cell_type": "code",
   "execution_count": 13,
   "metadata": {},
   "outputs": [
    {
     "name": "stdout",
     "output_type": "stream",
     "text": [
      "Academic license - for non-commercial use only - expires 2021-09-17\n",
      "Using license file C:\\Users\\Pramesh Kumar\\gurobi.lic\n"
     ]
    },
    {
     "data": {
      "text/html": [
       "<div>\n",
       "<style scoped>\n",
       "    .dataframe tbody tr th:only-of-type {\n",
       "        vertical-align: middle;\n",
       "    }\n",
       "\n",
       "    .dataframe tbody tr th {\n",
       "        vertical-align: top;\n",
       "    }\n",
       "\n",
       "    .dataframe thead th {\n",
       "        text-align: right;\n",
       "    }\n",
       "</style>\n",
       "<table border=\"1\" class=\"dataframe\">\n",
       "  <thead>\n",
       "    <tr style=\"text-align: right;\">\n",
       "      <th></th>\n",
       "      <th>Particulars</th>\n",
       "      <th>IP with Gurobi</th>\n",
       "      <th>Knapsack cover with no lifting</th>\n",
       "      <th>Knapsack cover with sequential lifting</th>\n",
       "      <th>Knapsack cover with Balas lifting</th>\n",
       "    </tr>\n",
       "  </thead>\n",
       "  <tbody>\n",
       "    <tr>\n",
       "      <th>0</th>\n",
       "      <td>Total items</td>\n",
       "      <td>1,000.00</td>\n",
       "      <td>1,000.00</td>\n",
       "      <td>1,000.00</td>\n",
       "      <td>1,000.00</td>\n",
       "    </tr>\n",
       "    <tr>\n",
       "      <th>1</th>\n",
       "      <td>No. of items selected</td>\n",
       "      <td>561.00</td>\n",
       "      <td>560.00</td>\n",
       "      <td>560.00</td>\n",
       "      <td>560.00</td>\n",
       "    </tr>\n",
       "    <tr>\n",
       "      <th>2</th>\n",
       "      <td>Value of items selected</td>\n",
       "      <td>374,128.00</td>\n",
       "      <td>374,076.00</td>\n",
       "      <td>374,076.00</td>\n",
       "      <td>374,076.00</td>\n",
       "    </tr>\n",
       "    <tr>\n",
       "      <th>3</th>\n",
       "      <td>No. of covers generated</td>\n",
       "      <td>nan</td>\n",
       "      <td>6.00</td>\n",
       "      <td>6.00</td>\n",
       "      <td>11.00</td>\n",
       "    </tr>\n",
       "    <tr>\n",
       "      <th>4</th>\n",
       "      <td>Computational time</td>\n",
       "      <td>0.12</td>\n",
       "      <td>0.42</td>\n",
       "      <td>0.66</td>\n",
       "      <td>5.07</td>\n",
       "    </tr>\n",
       "  </tbody>\n",
       "</table>\n",
       "</div>"
      ],
      "text/plain": [
       "               Particulars  IP with Gurobi  Knapsack cover with no lifting  \\\n",
       "0              Total items        1,000.00                        1,000.00   \n",
       "1    No. of items selected          561.00                          560.00   \n",
       "2  Value of items selected      374,128.00                      374,076.00   \n",
       "3  No. of covers generated             nan                            6.00   \n",
       "4       Computational time            0.12                            0.42   \n",
       "\n",
       "   Knapsack cover with sequential lifting  Knapsack cover with Balas lifting  \n",
       "0                                1,000.00                           1,000.00  \n",
       "1                                  560.00                             560.00  \n",
       "2                              374,076.00                         374,076.00  \n",
       "3                                    6.00                              11.00  \n",
       "4                                    0.66                               5.07  "
      ]
     },
     "metadata": {},
     "output_type": "display_data"
    }
   ],
   "source": [
    "import pandas as pd\n",
    "n = 1000 # No. of items\n",
    "results = []; results.append(['Total items', n])\n",
    "a, w, b = generateData(n)\n",
    "start = time.time()\n",
    "xg, objg = solveKnapsackUsingGurobi(n, a, w, b, verbose = 0)\n",
    "#print('Gurobi model took', time.time()-start); start = time.time()\n",
    "timeF = time.time()-start\n",
    "results.append(['No. of items selected', len(xg)])\n",
    "results.append(['Value of items selected', objg])\n",
    "results.append(['No. of covers generated', float(\"NAN\")])\n",
    "results.append(['Computational time', timeF])\n",
    "\n",
    "for lift in ['None', 'sequential', 'Balas']:    \n",
    "    start = time.time()\n",
    "    xc, objc, nc = solveKnapsackUsingCoverInequalities(n, a, w, b, lifting = lift, verbose = 0)\n",
    "    timeF = time.time()-start\n",
    "    #print('CG model took', time.time()- start)\n",
    "    results[0].append(n)\n",
    "    results[1].append(len(xc))\n",
    "    results[2].append(objc)\n",
    "    results[3].append(nc)\n",
    "    results[4].append(timeF)\n",
    "\n",
    "# Create the pandas DataFrame\n",
    "pd.options.display.float_format = \"{:,.2f}\".format\n",
    "df = pd.DataFrame(results, columns = ['Particulars', 'IP with Gurobi', 'Knapsack cover with no lifting', 'Knapsack cover with sequential lifting', 'Knapsack cover with Balas lifting'])\n",
    "display(df)"
   ]
  }
 ],
 "metadata": {
  "kernelspec": {
   "display_name": "Python 3",
   "language": "python",
   "name": "python3"
  },
  "language_info": {
   "codemirror_mode": {
    "name": "ipython",
    "version": 3
   },
   "file_extension": ".py",
   "mimetype": "text/x-python",
   "name": "python",
   "nbconvert_exporter": "python",
   "pygments_lexer": "ipython3",
   "version": "3.6.10"
  }
 },
 "nbformat": 4,
 "nbformat_minor": 4
}
